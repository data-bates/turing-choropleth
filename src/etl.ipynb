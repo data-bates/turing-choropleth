{
 "cells": [
  {
   "cell_type": "code",
   "execution_count": null,
   "metadata": {
    "collapsed": true
   },
   "outputs": [],
   "source": [
    "import pandas as pd"
   ]
  },
  {
   "cell_type": "code",
   "execution_count": null,
   "metadata": {
    "collapsed": false
   },
   "outputs": [],
   "source": [
    "employees_df = pd.read_csv(\"data/cbp13co.txt\",\n",
    "                           dtype={'fipstate': object, 'fipscty': object})\n",
    "codes_df = pd.read_csv(\"data/georef12.txt\",\n",
    "                       dtype={'fipstate': object, 'fipscty': object})\n",
    "land_area_df = pd.read_csv('data/DEC_00_SF1_GCTPH1.US05PR.csv',\n",
    "                           dtype={'GCT_STUB.target-geo-id2': object})"
   ]
  },
  {
   "cell_type": "code",
   "execution_count": null,
   "metadata": {
    "collapsed": false
   },
   "outputs": [],
   "source": [
    "print employees_df"
   ]
  },
  {
   "cell_type": "code",
   "execution_count": null,
   "metadata": {
    "collapsed": false
   },
   "outputs": [],
   "source": [
    "# want the total over all naics codes (where naics column = '------')\n",
    "# excluding statewide totals (where county code = 999)\n",
    "emp_all_df = employees_df[(employees_df['naics'] == '------') &\n",
    "                          (employees_df['fipscty'] != '999')].copy()\n",
    "emp_all_df.shape"
   ]
  },
  {
   "cell_type": "code",
   "execution_count": null,
   "metadata": {
    "collapsed": false
   },
   "outputs": [],
   "source": [
    "# also want the name of the county and state\n",
    "print codes_df[:5]\n",
    "with_names_df = pd.merge(emp_all_df, codes_df, on=['fipstate', 'fipscty'],\n",
    "                         how='inner')"
   ]
  },
  {
   "cell_type": "code",
   "execution_count": null,
   "metadata": {
    "collapsed": false
   },
   "outputs": [],
   "source": [
    "with_names_df[:5]"
   ]
  },
  {
   "cell_type": "code",
   "execution_count": null,
   "metadata": {
    "collapsed": true
   },
   "outputs": [],
   "source": [
    "# combine fip codes to be 5 digit code for topojson compatibility\n",
    "with_names_df['id'] = with_names_df['fipstate'] + with_names_df['fipscty']"
   ]
  },
  {
   "cell_type": "code",
   "execution_count": null,
   "metadata": {
    "collapsed": false
   },
   "outputs": [],
   "source": [
    "# only need total number of businesses with 50-99 employees\n",
    "sb_df = with_names_df[['id', 'ctyname', 'n50_99']].copy()"
   ]
  },
  {
   "cell_type": "code",
   "execution_count": null,
   "metadata": {
    "collapsed": false,
    "scrolled": true
   },
   "outputs": [],
   "source": [
    "sb_df[:5]"
   ]
  },
  {
   "cell_type": "code",
   "execution_count": null,
   "metadata": {
    "collapsed": false
   },
   "outputs": [],
   "source": [
    "# calculate density using county land area"
   ]
  },
  {
   "cell_type": "code",
   "execution_count": null,
   "metadata": {
    "collapsed": false
   },
   "outputs": [],
   "source": [
    "land_area_df[:5]"
   ]
  },
  {
   "cell_type": "code",
   "execution_count": null,
   "metadata": {
    "collapsed": true
   },
   "outputs": [],
   "source": [
    "# total land area is column HC04\n",
    "area_df = land_area_df.rename(columns={'GCT_STUB.target-geo-id2':'id',\n",
    "                                       'HC06':'area'})[['id', 'area']]"
   ]
  },
  {
   "cell_type": "code",
   "execution_count": null,
   "metadata": {
    "collapsed": true
   },
   "outputs": [],
   "source": [
    "# left join on fips id, convert to int\n",
    "sb_area_df = pd.merge(sb_df, area_df, on=['id'], how='left')\n",
    "sb_area_df['id'] = sb_area_df['id'].apply(int)"
   ]
  },
  {
   "cell_type": "code",
   "execution_count": null,
   "metadata": {
    "collapsed": false
   },
   "outputs": [],
   "source": [
    "# calculate density\n",
    "sb_area_df['density'] = sb_area_df['n50_99'] / sb_area_df['area']"
   ]
  },
  {
   "cell_type": "code",
   "execution_count": null,
   "metadata": {
    "collapsed": false
   },
   "outputs": [],
   "source": [
    "sb_density_df = sb_area_df[['id', 'ctyname', 'density', 'n50_99']]\n",
    "sb_density_df[:5]"
   ]
  },
  {
   "cell_type": "code",
   "execution_count": null,
   "metadata": {
    "collapsed": true
   },
   "outputs": [],
   "source": [
    "sb_density_df.to_csv('data/sbdata.csv', index=False)"
   ]
  },
  {
   "cell_type": "code",
   "execution_count": null,
   "metadata": {
    "collapsed": false
   },
   "outputs": [],
   "source": [
    "sb_density_df['density'].describe()"
   ]
  },
  {
   "cell_type": "code",
   "execution_count": null,
   "metadata": {
    "collapsed": true
   },
   "outputs": [],
   "source": []
  }
 ],
 "metadata": {
  "kernelspec": {
   "display_name": "Python 2",
   "language": "python",
   "name": "python2"
  },
  "language_info": {
   "codemirror_mode": {
    "name": "ipython",
    "version": 2
   },
   "file_extension": ".py",
   "mimetype": "text/x-python",
   "name": "python",
   "nbconvert_exporter": "python",
   "pygments_lexer": "ipython2",
   "version": "2.7.10"
  }
 },
 "nbformat": 4,
 "nbformat_minor": 0
}
